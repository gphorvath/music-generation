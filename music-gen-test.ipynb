{
 "cells": [
  {
   "cell_type": "code",
   "execution_count": null,
   "metadata": {},
   "outputs": [],
   "source": [
    "from fastapi import FastAPI, UploadFile, File\n",
    "from fastapi.responses import FileResponse\n",
    "import torchaudio\n",
    "from audiocraft.models import MusicGen\n",
    "from audiocraft.data.audio import audio_write\n",
    "import os\n",
    "from datetime import datetime"
   ]
  },
  {
   "cell_type": "markdown",
   "metadata": {},
   "source": [
    "## Prompts Needed\n",
    "Main Menu\n",
    "Overworld\n",
    "Combat\n",
    "Underworld"
   ]
  },
  {
   "cell_type": "code",
   "execution_count": null,
   "metadata": {},
   "outputs": [],
   "source": [
    "duration = 8\n",
    "prompt = \"quiet mysterious orchestral cello\""
   ]
  },
  {
   "cell_type": "code",
   "execution_count": 7,
   "metadata": {},
   "outputs": [],
   "source": [
    "save_directory = \"./audio/\"\n",
    "os.makedirs(save_directory, exist_ok=True)\n",
    "model_id = 'small'\n"
   ]
  },
  {
   "cell_type": "code",
   "execution_count": 8,
   "metadata": {},
   "outputs": [
    {
     "name": "stderr",
     "output_type": "stream",
     "text": [
      "Downloading: \"https://dl.fbaipublicfiles.com/audiocraft/musicgen/v0/ba7a97ba-830fe5771e.th\" to /home/game-shenanigans/.cache/torch/hub/checkpoints/ba7a97ba-830fe5771e.th\n",
      "100%|██████████| 802M/802M [00:21<00:00, 38.9MB/s] \n"
     ]
    }
   ],
   "source": [
    "model = MusicGen.get_pretrained(model_id)"
   ]
  },
  {
   "cell_type": "code",
   "execution_count": 9,
   "metadata": {},
   "outputs": [],
   "source": [
    "model.set_generation_params(duration)"
   ]
  },
  {
   "cell_type": "code",
   "execution_count": 10,
   "metadata": {},
   "outputs": [
    {
     "name": "stdout",
     "output_type": "stream",
     "text": [
      "Generating...\n"
     ]
    },
    {
     "ename": "KeyboardInterrupt",
     "evalue": "",
     "output_type": "error",
     "traceback": [
      "\u001b[0;31m---------------------------------------------------------------------------\u001b[0m",
      "\u001b[0;31mKeyboardInterrupt\u001b[0m                         Traceback (most recent call last)",
      "Cell \u001b[0;32mIn[10], line 4\u001b[0m\n\u001b[1;32m      2\u001b[0m filename \u001b[39m=\u001b[39m \u001b[39mf\u001b[39m\u001b[39m'\u001b[39m\u001b[39m{\u001b[39;00mct\u001b[39m}\u001b[39;00m\u001b[39m.wav\u001b[39m\u001b[39m'\u001b[39m\n\u001b[1;32m      3\u001b[0m \u001b[39mprint\u001b[39m(\u001b[39m\"\u001b[39m\u001b[39mGenerating...\u001b[39m\u001b[39m\"\u001b[39m)\n\u001b[0;32m----> 4\u001b[0m wav \u001b[39m=\u001b[39m model\u001b[39m.\u001b[39;49mgenerate(prompt) \n\u001b[1;32m      5\u001b[0m \u001b[39mprint\u001b[39m(\u001b[39m\"\u001b[39m\u001b[39mWriting to \u001b[39m\u001b[39m{filename}\u001b[39;00m\u001b[39m\"\u001b[39m)\n\u001b[1;32m      6\u001b[0m audio_write(filename, wav\u001b[39m.\u001b[39mcpu(), model\u001b[39m.\u001b[39msample_rate, strategy\u001b[39m=\u001b[39m\u001b[39m\"\u001b[39m\u001b[39mloudness\u001b[39m\u001b[39m\"\u001b[39m)\n",
      "File \u001b[0;32m~/dev/music-generation/.venv/lib/python3.10/site-packages/audiocraft/models/musicgen.py:147\u001b[0m, in \u001b[0;36mMusicGen.generate\u001b[0;34m(self, descriptions, progress)\u001b[0m\n\u001b[1;32m    145\u001b[0m attributes, prompt_tokens \u001b[39m=\u001b[39m \u001b[39mself\u001b[39m\u001b[39m.\u001b[39m_prepare_tokens_and_attributes(descriptions, \u001b[39mNone\u001b[39;00m)\n\u001b[1;32m    146\u001b[0m \u001b[39massert\u001b[39;00m prompt_tokens \u001b[39mis\u001b[39;00m \u001b[39mNone\u001b[39;00m\n\u001b[0;32m--> 147\u001b[0m \u001b[39mreturn\u001b[39;00m \u001b[39mself\u001b[39;49m\u001b[39m.\u001b[39;49m_generate_tokens(attributes, prompt_tokens, progress)\n",
      "File \u001b[0;32m~/dev/music-generation/.venv/lib/python3.10/site-packages/audiocraft/models/musicgen.py:282\u001b[0m, in \u001b[0;36mMusicGen._generate_tokens\u001b[0;34m(self, attributes, prompt_tokens, progress)\u001b[0m\n\u001b[1;32m    280\u001b[0m \u001b[39m# generate by sampling from LM\u001b[39;00m\n\u001b[1;32m    281\u001b[0m \u001b[39mwith\u001b[39;00m \u001b[39mself\u001b[39m\u001b[39m.\u001b[39mautocast:\n\u001b[0;32m--> 282\u001b[0m     gen_tokens \u001b[39m=\u001b[39m \u001b[39mself\u001b[39;49m\u001b[39m.\u001b[39;49mlm\u001b[39m.\u001b[39;49mgenerate(prompt_tokens, attributes, callback\u001b[39m=\u001b[39;49mcallback, \u001b[39m*\u001b[39;49m\u001b[39m*\u001b[39;49m\u001b[39mself\u001b[39;49m\u001b[39m.\u001b[39;49mgeneration_params)\n\u001b[1;32m    284\u001b[0m \u001b[39m# generate audio\u001b[39;00m\n\u001b[1;32m    285\u001b[0m \u001b[39massert\u001b[39;00m gen_tokens\u001b[39m.\u001b[39mdim() \u001b[39m==\u001b[39m \u001b[39m3\u001b[39m\n",
      "File \u001b[0;32m~/dev/music-generation/.venv/lib/python3.10/site-packages/torch/utils/_contextlib.py:115\u001b[0m, in \u001b[0;36mcontext_decorator.<locals>.decorate_context\u001b[0;34m(*args, **kwargs)\u001b[0m\n\u001b[1;32m    112\u001b[0m \u001b[39m@functools\u001b[39m\u001b[39m.\u001b[39mwraps(func)\n\u001b[1;32m    113\u001b[0m \u001b[39mdef\u001b[39;00m \u001b[39mdecorate_context\u001b[39m(\u001b[39m*\u001b[39margs, \u001b[39m*\u001b[39m\u001b[39m*\u001b[39mkwargs):\n\u001b[1;32m    114\u001b[0m     \u001b[39mwith\u001b[39;00m ctx_factory():\n\u001b[0;32m--> 115\u001b[0m         \u001b[39mreturn\u001b[39;00m func(\u001b[39m*\u001b[39;49margs, \u001b[39m*\u001b[39;49m\u001b[39m*\u001b[39;49mkwargs)\n",
      "File \u001b[0;32m~/dev/music-generation/.venv/lib/python3.10/site-packages/audiocraft/models/lm.py:489\u001b[0m, in \u001b[0;36mLMModel.generate\u001b[0;34m(self, prompt, conditions, num_samples, max_gen_len, use_sampling, temp, top_k, top_p, cfg_coef, two_step_cfg, remove_prompts, check, callback)\u001b[0m\n\u001b[1;32m    487\u001b[0m     \u001b[39massert\u001b[39;00m \u001b[39mnot\u001b[39;00m (curr_sequence \u001b[39m==\u001b[39m unknown_token)\u001b[39m.\u001b[39many()\n\u001b[1;32m    488\u001b[0m \u001b[39m# sample next token from the model, next token shape is [B, K, 1]\u001b[39;00m\n\u001b[0;32m--> 489\u001b[0m next_token \u001b[39m=\u001b[39m \u001b[39mself\u001b[39;49m\u001b[39m.\u001b[39;49m_sample_next_token(\n\u001b[1;32m    490\u001b[0m     curr_sequence, cfg_conditions, unconditional_state, use_sampling, temp, top_k, top_p,\n\u001b[1;32m    491\u001b[0m     cfg_coef\u001b[39m=\u001b[39;49mcfg_coef)\n\u001b[1;32m    492\u001b[0m \u001b[39m# ensure the tokens that should be masked are properly set to special_token_id\u001b[39;00m\n\u001b[1;32m    493\u001b[0m \u001b[39m# as the model never output special_token_id\u001b[39;00m\n\u001b[1;32m    494\u001b[0m valid_mask \u001b[39m=\u001b[39m mask[\u001b[39m.\u001b[39m\u001b[39m.\u001b[39m\u001b[39m.\u001b[39m, offset:offset\u001b[39m+\u001b[39m\u001b[39m1\u001b[39m]\u001b[39m.\u001b[39mexpand(B, \u001b[39m-\u001b[39m\u001b[39m1\u001b[39m, \u001b[39m-\u001b[39m\u001b[39m1\u001b[39m)\n",
      "File \u001b[0;32m~/dev/music-generation/.venv/lib/python3.10/site-packages/audiocraft/models/lm.py:371\u001b[0m, in \u001b[0;36mLMModel._sample_next_token\u001b[0;34m(self, sequence, cfg_conditions, unconditional_state, use_sampling, temp, top_k, top_p, cfg_coef)\u001b[0m\n\u001b[1;32m    369\u001b[0m     next_token \u001b[39m=\u001b[39m utils\u001b[39m.\u001b[39msample_top_p(probs, p\u001b[39m=\u001b[39mtop_p)\n\u001b[1;32m    370\u001b[0m \u001b[39melif\u001b[39;00m top_k \u001b[39m>\u001b[39m \u001b[39m0\u001b[39m:\n\u001b[0;32m--> 371\u001b[0m     next_token \u001b[39m=\u001b[39m utils\u001b[39m.\u001b[39;49msample_top_k(probs, k\u001b[39m=\u001b[39;49mtop_k)\n\u001b[1;32m    372\u001b[0m \u001b[39melse\u001b[39;00m:\n\u001b[1;32m    373\u001b[0m     next_token \u001b[39m=\u001b[39m utils\u001b[39m.\u001b[39mmultinomial(probs, num_samples\u001b[39m=\u001b[39m\u001b[39m1\u001b[39m)\n",
      "File \u001b[0;32m~/dev/music-generation/.venv/lib/python3.10/site-packages/audiocraft/utils/utils.py:107\u001b[0m, in \u001b[0;36msample_top_k\u001b[0;34m(probs, k)\u001b[0m\n\u001b[1;32m    105\u001b[0m top_k_value, _ \u001b[39m=\u001b[39m torch\u001b[39m.\u001b[39mtopk(probs, k, dim\u001b[39m=\u001b[39m\u001b[39m-\u001b[39m\u001b[39m1\u001b[39m)\n\u001b[1;32m    106\u001b[0m min_value_top_k \u001b[39m=\u001b[39m top_k_value[\u001b[39m.\u001b[39m\u001b[39m.\u001b[39m\u001b[39m.\u001b[39m, [\u001b[39m-\u001b[39m\u001b[39m1\u001b[39m]]\n\u001b[0;32m--> 107\u001b[0m probs \u001b[39m*\u001b[39m\u001b[39m=\u001b[39m (probs \u001b[39m>\u001b[39;49m\u001b[39m=\u001b[39;49m min_value_top_k)\u001b[39m.\u001b[39;49mfloat()\n\u001b[1;32m    108\u001b[0m probs\u001b[39m.\u001b[39mdiv_(probs\u001b[39m.\u001b[39msum(dim\u001b[39m=\u001b[39m\u001b[39m-\u001b[39m\u001b[39m1\u001b[39m, keepdim\u001b[39m=\u001b[39m\u001b[39mTrue\u001b[39;00m))\n\u001b[1;32m    109\u001b[0m next_token \u001b[39m=\u001b[39m multinomial(probs, num_samples\u001b[39m=\u001b[39m\u001b[39m1\u001b[39m)\n",
      "\u001b[0;31mKeyboardInterrupt\u001b[0m: "
     ]
    }
   ],
   "source": [
    "ct = datetime.now()\n",
    "filename = f'{ct}.wav'\n",
    "print(\"Generating...\")\n",
    "wav = model.generate(prompt) \n",
    "print(\"Writing to {filename}\")\n",
    "audio_write(filename, wav.cpu(), model.sample_rate, strategy=\"loudness\")"
   ]
  },
  {
   "cell_type": "code",
   "execution_count": null,
   "metadata": {},
   "outputs": [],
   "source": []
  }
 ],
 "metadata": {
  "kernelspec": {
   "display_name": ".venv",
   "language": "python",
   "name": "python3"
  },
  "language_info": {
   "codemirror_mode": {
    "name": "ipython",
    "version": 3
   },
   "file_extension": ".py",
   "mimetype": "text/x-python",
   "name": "python",
   "nbconvert_exporter": "python",
   "pygments_lexer": "ipython3",
   "version": "3.10.6"
  },
  "orig_nbformat": 4
 },
 "nbformat": 4,
 "nbformat_minor": 2
}
